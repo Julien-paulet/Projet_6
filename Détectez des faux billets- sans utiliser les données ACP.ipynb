{
 "cells": [
  {
   "cell_type": "code",
   "execution_count": 1,
   "metadata": {},
   "outputs": [],
   "source": [
    "import pandas as pd\n",
    "import numpy as np\n",
    "import matplotlib.pyplot as plt\n",
    "import seaborn as sns"
   ]
  },
  {
   "cell_type": "code",
   "execution_count": 2,
   "metadata": {},
   "outputs": [
    {
     "data": {
      "text/html": [
       "<div>\n",
       "<style scoped>\n",
       "    .dataframe tbody tr th:only-of-type {\n",
       "        vertical-align: middle;\n",
       "    }\n",
       "\n",
       "    .dataframe tbody tr th {\n",
       "        vertical-align: top;\n",
       "    }\n",
       "\n",
       "    .dataframe thead th {\n",
       "        text-align: right;\n",
       "    }\n",
       "</style>\n",
       "<table border=\"1\" class=\"dataframe\">\n",
       "  <thead>\n",
       "    <tr style=\"text-align: right;\">\n",
       "      <th></th>\n",
       "      <th>is_genuine</th>\n",
       "      <th>diagonal</th>\n",
       "      <th>height_left</th>\n",
       "      <th>height_right</th>\n",
       "      <th>margin_low</th>\n",
       "      <th>margin_up</th>\n",
       "      <th>length</th>\n",
       "    </tr>\n",
       "  </thead>\n",
       "  <tbody>\n",
       "    <tr>\n",
       "      <th>0</th>\n",
       "      <td>True</td>\n",
       "      <td>171.81</td>\n",
       "      <td>104.86</td>\n",
       "      <td>104.95</td>\n",
       "      <td>4.52</td>\n",
       "      <td>2.89</td>\n",
       "      <td>112.83</td>\n",
       "    </tr>\n",
       "    <tr>\n",
       "      <th>1</th>\n",
       "      <td>True</td>\n",
       "      <td>171.67</td>\n",
       "      <td>103.74</td>\n",
       "      <td>103.70</td>\n",
       "      <td>4.01</td>\n",
       "      <td>2.87</td>\n",
       "      <td>113.29</td>\n",
       "    </tr>\n",
       "    <tr>\n",
       "      <th>2</th>\n",
       "      <td>True</td>\n",
       "      <td>171.83</td>\n",
       "      <td>103.76</td>\n",
       "      <td>103.76</td>\n",
       "      <td>4.40</td>\n",
       "      <td>2.88</td>\n",
       "      <td>113.84</td>\n",
       "    </tr>\n",
       "    <tr>\n",
       "      <th>3</th>\n",
       "      <td>True</td>\n",
       "      <td>171.80</td>\n",
       "      <td>103.78</td>\n",
       "      <td>103.65</td>\n",
       "      <td>3.73</td>\n",
       "      <td>3.12</td>\n",
       "      <td>113.63</td>\n",
       "    </tr>\n",
       "    <tr>\n",
       "      <th>4</th>\n",
       "      <td>True</td>\n",
       "      <td>172.05</td>\n",
       "      <td>103.70</td>\n",
       "      <td>103.75</td>\n",
       "      <td>5.04</td>\n",
       "      <td>2.27</td>\n",
       "      <td>113.55</td>\n",
       "    </tr>\n",
       "  </tbody>\n",
       "</table>\n",
       "</div>"
      ],
      "text/plain": [
       "   is_genuine  diagonal  height_left  height_right  margin_low  margin_up  \\\n",
       "0        True    171.81       104.86        104.95        4.52       2.89   \n",
       "1        True    171.67       103.74        103.70        4.01       2.87   \n",
       "2        True    171.83       103.76        103.76        4.40       2.88   \n",
       "3        True    171.80       103.78        103.65        3.73       3.12   \n",
       "4        True    172.05       103.70        103.75        5.04       2.27   \n",
       "\n",
       "   length  \n",
       "0  112.83  \n",
       "1  113.29  \n",
       "2  113.84  \n",
       "3  113.63  \n",
       "4  113.55  "
      ]
     },
     "execution_count": 2,
     "metadata": {},
     "output_type": "execute_result"
    }
   ],
   "source": [
    "data = pd.read_csv(\"billets.csv\")\n",
    "data = pd.DataFrame(data, columns=data.columns)\n",
    "\n",
    "data.head()"
   ]
  },
  {
   "cell_type": "markdown",
   "metadata": {},
   "source": [
    "# Partie 1 : ACP"
   ]
  },
  {
   "cell_type": "code",
   "execution_count": 3,
   "metadata": {},
   "outputs": [],
   "source": [
    "from functions2 import *\n",
    "from sklearn import preprocessing, decomposition"
   ]
  },
  {
   "cell_type": "markdown",
   "metadata": {},
   "source": [
    "## Composantes principales"
   ]
  },
  {
   "cell_type": "code",
   "execution_count": 4,
   "metadata": {},
   "outputs": [],
   "source": [
    "n_comp = 5\n",
    "\n",
    "data_pca = data[[\"diagonal\", \"height_left\", \"height_right\", \"margin_low\", \"margin_up\", \"length\"]]\n",
    "\n",
    "data_pca = data_pca.fillna(data_pca.mean())\n",
    "\n",
    "#On ne prend que les valeurs\n",
    "X = data_pca.values\n",
    "\n",
    "#La variable qui nous permettra de colorer nos résultats : \n",
    "fakeornot = [data.loc[fake, \"is_genuine\"] for fake in data.index]\n",
    "\n",
    "names = data_pca.index\n",
    "\n",
    "features = data_pca.columns\n",
    "\n",
    "#Centrage et réduction : \n",
    "std_scale = preprocessing.StandardScaler().fit(X)\n",
    "X_scaled = std_scale.transform(X)\n",
    "\n",
    "#Calcul des composantes principales : \n",
    "pca = decomposition.PCA(n_components = n_comp)\n",
    "pca = pca.fit(X_scaled)"
   ]
  },
  {
   "cell_type": "markdown",
   "metadata": {},
   "source": [
    "# Mission 3 : Regression Logistique"
   ]
  },
  {
   "cell_type": "code",
   "execution_count": 5,
   "metadata": {},
   "outputs": [],
   "source": [
    "import statsmodels.formula.api as smf\n",
    "import statsmodels.api as sm"
   ]
  },
  {
   "cell_type": "code",
   "execution_count": 6,
   "metadata": {},
   "outputs": [],
   "source": [
    "data['is_genuine'] = list(map(int, data['is_genuine'])) "
   ]
  },
  {
   "cell_type": "code",
   "execution_count": 7,
   "metadata": {},
   "outputs": [
    {
     "name": "stdout",
     "output_type": "stream",
     "text": [
      "                 Generalized Linear Model Regression Results                  \n",
      "==============================================================================\n",
      "Dep. Variable:             is_genuine   No. Observations:                  170\n",
      "Model:                            GLM   Df Residuals:                      167\n",
      "Model Family:                Binomial   Df Model:                            2\n",
      "Link Function:                  logit   Scale:                          1.0000\n",
      "Method:                          IRLS   Log-Likelihood:                -6.3603\n",
      "Date:                Mon, 20 May 2019   Deviance:                       12.721\n",
      "Time:                        16:25:02   Pearson chi2:                     11.3\n",
      "No. Iterations:                    11   Covariance Type:             nonrobust\n",
      "==============================================================================\n",
      "                 coef    std err          z      P>|z|      [0.025      0.975]\n",
      "------------------------------------------------------------------------------\n",
      "Intercept    176.4638     74.203      2.378      0.017      31.029     321.898\n",
      "margin_low   -16.5356      6.923     -2.388      0.017     -30.105      -2.966\n",
      "margin_up    -31.6721     13.611     -2.327      0.020     -58.349      -4.996\n",
      "==============================================================================\n"
     ]
    }
   ],
   "source": [
    "#On est obligé d'enlever Length sinon message d'erreur\n",
    "reg_log1 = smf.glm('is_genuine~margin_low+margin_up',\n",
    "                   data=data,\n",
    "                   family=sm.families.Binomial()).fit()\n",
    "print(reg_log1.summary())"
   ]
  },
  {
   "cell_type": "markdown",
   "metadata": {},
   "source": [
    "# Programme :"
   ]
  },
  {
   "cell_type": "code",
   "execution_count": 47,
   "metadata": {},
   "outputs": [],
   "source": [
    "def billets (df):\n",
    "    #On récupère les noms de colonnes :\n",
    "    columns_df = list(df.columns)\n",
    "    columns_data = list(data[['diagonal','height_left', \n",
    "                          'height_right','margin_low', \n",
    "                          'margin_up','length']].columns)\n",
    "    \n",
    "    #On check si une colonne id existe pour l'utiliser en index par la suite : \n",
    "    if any(\"id\" in i for i in columns_df):\n",
    "        id_df = df['id']\n",
    "    else:\n",
    "        id_df = df.index    \n",
    "    \n",
    "    #On les compare avec celles de notre fichier de train\n",
    "    result =  all(elem in columns_df  for elem in columns_data)\n",
    "\n",
    "    if result == True :\n",
    "        pass\n",
    "    else:\n",
    "        print(\"Les données fournies ne contiennent pas les colonnes requises.\")\n",
    "        print(\"Pour que le programme fonctionne, il faut les colonnes suivantes :\")\n",
    "        print(columns_data)\n",
    "        return None\n",
    "    \n",
    "    #On gère les valeurs manquantes :\n",
    "    df = df.fillna(df.mean()) \n",
    "    \n",
    "    #On prend les colonnes utiles pour le centrage/réduction : \n",
    "    df_cr = df[[\"diagonal\", \"height_left\", \n",
    "                 \"height_right\", \"margin_low\", \n",
    "                 \"margin_up\", \"length\"]]\n",
    "    \n",
    "    #On applique la prédiction de la régression logistique :\n",
    "    df_predict = pd.DataFrame(df_cr, index=id_df, columns=df_cr.columns)\n",
    "    df_predict = reg_log1.predict(df_cr)\n",
    "    \n",
    "    #On modifie le df retourné pour avoir l'identifiant, la proba et True or False :\n",
    "    df_predict = pd.DataFrame(df_predict, index=df.index, columns=[\"Proba\"])\n",
    "    df_predict['Proba'] = df_predict['Proba']*100\n",
    "    df_predict[\"is_genuine\"] = np.where(df_predict[\"Proba\"] >= 50, True, False)\n",
    "    \n",
    "    #On enregistre le fichier dans un répertoire :\n",
    "    #df_final.to_csv(\"previsions.csv\")\n",
    "    \n",
    "    #On calcule le nombre de True et de False : \n",
    "    true = df_predict[df_predict[\"is_genuine\"] == True].count()\n",
    "    false = df_predict[df_predict[\"is_genuine\"] == False].count()\n",
    "    \n",
    "    #On print le tout : \n",
    "    print(\"Le nombre de True est de : \", true[1])\n",
    "    print(\"Le nombre de False est de : \", false[1])\n",
    "    \n",
    "    #On save le fichier avec les True uniquement : \n",
    "    vrais_billets = df_predict[df_predict[\"is_genuine\"] == True]\n",
    "    #vrais_billets.to_csv(\"vrais_billets.csv\")\n",
    "    \n",
    "    #On return le tout pour l'avoir en sortie de programme :\n",
    "    return df_predict"
   ]
  },
  {
   "cell_type": "markdown",
   "metadata": {},
   "source": [
    "## Matrice de confusion et accuracy"
   ]
  },
  {
   "cell_type": "code",
   "execution_count": 38,
   "metadata": {},
   "outputs": [
    {
     "name": "stdout",
     "output_type": "stream",
     "text": [
      "Le nombre de True est de :  101\n",
      "Le nombre de False est de :  69\n",
      "         Vrai  Faux\n",
      "Positif    99    68\n",
      "Négatif     2     1\n",
      "\n",
      "\n",
      "L'accuracy est de :  98.0\n"
     ]
    }
   ],
   "source": [
    "#Préparation des données : \n",
    "test_data = data.iloc[:,:]\n",
    "test_data = billets(test_data)\n",
    "test_data = test_data['is_genuine']\n",
    "\n",
    "data_confusion1 = data.copy()\n",
    "data_confusion1[\"y_pred\"] = test_data\n",
    "\n",
    "#Calcul de la matrice de confusion :\n",
    "from sklearn.metrics import confusion_matrix\n",
    "conf_matrix1 = confusion_matrix(data_confusion1[\"is_genuine\"], \n",
    "                               data_confusion1['y_pred'])\n",
    "\n",
    "conf_df1 = {\"Vrai\":[conf_matrix1[1,1],conf_matrix1[0,1]], \n",
    "           \"Faux\":[conf_matrix1[0,0],conf_matrix1[1,0]]}\n",
    "conf_df1 = pd.DataFrame(conf_df1, index=[[\"Positif\", \"Négatif\"]])\n",
    "\n",
    "print(conf_df1)\n",
    "print(\"\\n\")\n",
    "print(\"L'accuracy est de : \",\n",
    "      round((conf_matrix1[1,1]+conf_matrix1[0,0])/len(data_confusion1)*100))"
   ]
  },
  {
   "cell_type": "markdown",
   "metadata": {},
   "source": [
    "<p> Accuracy de 98% </p>"
   ]
  },
  {
   "cell_type": "code",
   "execution_count": 48,
   "metadata": {},
   "outputs": [
    {
     "name": "stdout",
     "output_type": "stream",
     "text": [
      "Le nombre de True est de :  2\n",
      "Le nombre de False est de :  3\n"
     ]
    },
    {
     "data": {
      "text/html": [
       "<div>\n",
       "<style scoped>\n",
       "    .dataframe tbody tr th:only-of-type {\n",
       "        vertical-align: middle;\n",
       "    }\n",
       "\n",
       "    .dataframe tbody tr th {\n",
       "        vertical-align: top;\n",
       "    }\n",
       "\n",
       "    .dataframe thead th {\n",
       "        text-align: right;\n",
       "    }\n",
       "</style>\n",
       "<table border=\"1\" class=\"dataframe\">\n",
       "  <thead>\n",
       "    <tr style=\"text-align: right;\">\n",
       "      <th></th>\n",
       "      <th>Proba</th>\n",
       "      <th>is_genuine</th>\n",
       "    </tr>\n",
       "  </thead>\n",
       "  <tbody>\n",
       "    <tr>\n",
       "      <th>0</th>\n",
       "      <td>6.776884e-05</td>\n",
       "      <td>False</td>\n",
       "    </tr>\n",
       "    <tr>\n",
       "      <th>1</th>\n",
       "      <td>1.047737e-10</td>\n",
       "      <td>False</td>\n",
       "    </tr>\n",
       "    <tr>\n",
       "      <th>2</th>\n",
       "      <td>1.489232e-04</td>\n",
       "      <td>False</td>\n",
       "    </tr>\n",
       "    <tr>\n",
       "      <th>3</th>\n",
       "      <td>9.991583e+01</td>\n",
       "      <td>True</td>\n",
       "    </tr>\n",
       "    <tr>\n",
       "      <th>4</th>\n",
       "      <td>9.999992e+01</td>\n",
       "      <td>True</td>\n",
       "    </tr>\n",
       "  </tbody>\n",
       "</table>\n",
       "</div>"
      ],
      "text/plain": [
       "          Proba  is_genuine\n",
       "0  6.776884e-05       False\n",
       "1  1.047737e-10       False\n",
       "2  1.489232e-04       False\n",
       "3  9.991583e+01        True\n",
       "4  9.999992e+01        True"
      ]
     },
     "execution_count": 48,
     "metadata": {},
     "output_type": "execute_result"
    }
   ],
   "source": [
    "test = pd.read_csv(\"example.csv\")\n",
    "billets(test)"
   ]
  },
  {
   "cell_type": "code",
   "execution_count": null,
   "metadata": {},
   "outputs": [],
   "source": []
  }
 ],
 "metadata": {
  "kernelspec": {
   "display_name": "Python 3",
   "language": "python",
   "name": "python3"
  },
  "language_info": {
   "codemirror_mode": {
    "name": "ipython",
    "version": 3
   },
   "file_extension": ".py",
   "mimetype": "text/x-python",
   "name": "python",
   "nbconvert_exporter": "python",
   "pygments_lexer": "ipython3",
   "version": "3.7.1"
  },
  "toc": {
   "base_numbering": 1,
   "nav_menu": {},
   "number_sections": true,
   "sideBar": true,
   "skip_h1_title": false,
   "title_cell": "Table of Contents",
   "title_sidebar": "Contents",
   "toc_cell": false,
   "toc_position": {},
   "toc_section_display": true,
   "toc_window_display": false
  }
 },
 "nbformat": 4,
 "nbformat_minor": 2
}
