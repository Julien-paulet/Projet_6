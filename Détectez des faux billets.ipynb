{
 "cells": [
  {
   "cell_type": "code",
   "execution_count": 1,
   "metadata": {},
   "outputs": [],
   "source": [
    "import pandas as pd\n",
    "import numpy as np\n",
    "import matplotlib.pyplot as plt\n",
    "import seaborn as sns"
   ]
  },
  {
   "cell_type": "code",
   "execution_count": 2,
   "metadata": {},
   "outputs": [
    {
     "data": {
      "text/html": [
       "<div>\n",
       "<style scoped>\n",
       "    .dataframe tbody tr th:only-of-type {\n",
       "        vertical-align: middle;\n",
       "    }\n",
       "\n",
       "    .dataframe tbody tr th {\n",
       "        vertical-align: top;\n",
       "    }\n",
       "\n",
       "    .dataframe thead th {\n",
       "        text-align: right;\n",
       "    }\n",
       "</style>\n",
       "<table border=\"1\" class=\"dataframe\">\n",
       "  <thead>\n",
       "    <tr style=\"text-align: right;\">\n",
       "      <th></th>\n",
       "      <th>is_genuine</th>\n",
       "      <th>diagonal</th>\n",
       "      <th>height_left</th>\n",
       "      <th>height_right</th>\n",
       "      <th>margin_low</th>\n",
       "      <th>margin_up</th>\n",
       "      <th>length</th>\n",
       "    </tr>\n",
       "  </thead>\n",
       "  <tbody>\n",
       "    <tr>\n",
       "      <th>0</th>\n",
       "      <td>True</td>\n",
       "      <td>171.81</td>\n",
       "      <td>104.86</td>\n",
       "      <td>104.95</td>\n",
       "      <td>4.52</td>\n",
       "      <td>2.89</td>\n",
       "      <td>112.83</td>\n",
       "    </tr>\n",
       "    <tr>\n",
       "      <th>1</th>\n",
       "      <td>True</td>\n",
       "      <td>171.67</td>\n",
       "      <td>103.74</td>\n",
       "      <td>103.70</td>\n",
       "      <td>4.01</td>\n",
       "      <td>2.87</td>\n",
       "      <td>113.29</td>\n",
       "    </tr>\n",
       "    <tr>\n",
       "      <th>2</th>\n",
       "      <td>True</td>\n",
       "      <td>171.83</td>\n",
       "      <td>103.76</td>\n",
       "      <td>103.76</td>\n",
       "      <td>4.40</td>\n",
       "      <td>2.88</td>\n",
       "      <td>113.84</td>\n",
       "    </tr>\n",
       "    <tr>\n",
       "      <th>3</th>\n",
       "      <td>True</td>\n",
       "      <td>171.80</td>\n",
       "      <td>103.78</td>\n",
       "      <td>103.65</td>\n",
       "      <td>3.73</td>\n",
       "      <td>3.12</td>\n",
       "      <td>113.63</td>\n",
       "    </tr>\n",
       "    <tr>\n",
       "      <th>4</th>\n",
       "      <td>True</td>\n",
       "      <td>172.05</td>\n",
       "      <td>103.70</td>\n",
       "      <td>103.75</td>\n",
       "      <td>5.04</td>\n",
       "      <td>2.27</td>\n",
       "      <td>113.55</td>\n",
       "    </tr>\n",
       "  </tbody>\n",
       "</table>\n",
       "</div>"
      ],
      "text/plain": [
       "   is_genuine  diagonal  height_left  height_right  margin_low  margin_up  \\\n",
       "0        True    171.81       104.86        104.95        4.52       2.89   \n",
       "1        True    171.67       103.74        103.70        4.01       2.87   \n",
       "2        True    171.83       103.76        103.76        4.40       2.88   \n",
       "3        True    171.80       103.78        103.65        3.73       3.12   \n",
       "4        True    172.05       103.70        103.75        5.04       2.27   \n",
       "\n",
       "   length  \n",
       "0  112.83  \n",
       "1  113.29  \n",
       "2  113.84  \n",
       "3  113.63  \n",
       "4  113.55  "
      ]
     },
     "execution_count": 2,
     "metadata": {},
     "output_type": "execute_result"
    }
   ],
   "source": [
    "data = pd.read_csv(\"billets.csv\")\n",
    "data = pd.DataFrame(data, columns=data.columns)\n",
    "\n",
    "data.head()"
   ]
  },
  {
   "cell_type": "markdown",
   "metadata": {},
   "source": [
    "# Mission 0"
   ]
  },
  {
   "cell_type": "code",
   "execution_count": 3,
   "metadata": {},
   "outputs": [
    {
     "data": {
      "text/plain": [
       "(170, 7)"
      ]
     },
     "execution_count": 3,
     "metadata": {},
     "output_type": "execute_result"
    }
   ],
   "source": [
    "data.shape"
   ]
  },
  {
   "cell_type": "markdown",
   "metadata": {},
   "source": [
    "## Nettoyage"
   ]
  },
  {
   "cell_type": "code",
   "execution_count": 35,
   "metadata": {},
   "outputs": [
    {
     "name": "stdout",
     "output_type": "stream",
     "text": [
      "True\n",
      "True\n"
     ]
    }
   ],
   "source": [
    "print(any(pd.isna(data)))\n",
    "print(any(pd.isnull(data)))\n",
    "\n",
    "#??????"
   ]
  },
  {
   "cell_type": "markdown",
   "metadata": {},
   "source": [
    "<p> Des valeurs sont manquantes / Non attribuées"
   ]
  },
  {
   "cell_type": "code",
   "execution_count": 34,
   "metadata": {},
   "outputs": [
    {
     "name": "stdout",
     "output_type": "stream",
     "text": [
      "Les colonnes qui sont nulles :\n",
      "is_genuine False\n",
      "diagonal False\n",
      "height_left False\n",
      "height_right False\n",
      "margin_low False\n",
      "margin_up False\n",
      "length False\n",
      "\n",
      "\n",
      "Les colonnes qui sont NaN :\n",
      "is_genuine False\n",
      "diagonal False\n",
      "height_left False\n",
      "height_right False\n",
      "margin_low False\n",
      "margin_up False\n",
      "length False\n"
     ]
    }
   ],
   "source": [
    "print(\"Les colonnes qui sont nulles :\")\n",
    "i = 0\n",
    "while i <= 6:\n",
    "    print(data.columns[i], any(pd.isnull(data.iloc[:,i])))\n",
    "    i += 1\n",
    "\n",
    "#Fonctionne aussi :\n",
    "#i = 0\n",
    "#while i <= 6:\n",
    "#    isnull = data[pd.isnull(data.iloc[:,i])]\n",
    "#    print(isnull)\n",
    "#    i += 1\n",
    "print(\"\\n\")\n",
    "print(\"Les colonnes qui sont NaN :\")\n",
    "i = 0\n",
    "while i <= 6:\n",
    "    print(data.columns[i], any(pd.isna(data.iloc[:,i])))\n",
    "    i += 1"
   ]
  },
  {
   "cell_type": "markdown",
   "metadata": {},
   "source": [
    "## Analyses univariées"
   ]
  },
  {
   "cell_type": "code",
   "execution_count": 4,
   "metadata": {},
   "outputs": [
    {
     "data": {
      "text/html": [
       "<div>\n",
       "<style scoped>\n",
       "    .dataframe tbody tr th:only-of-type {\n",
       "        vertical-align: middle;\n",
       "    }\n",
       "\n",
       "    .dataframe tbody tr th {\n",
       "        vertical-align: top;\n",
       "    }\n",
       "\n",
       "    .dataframe thead th {\n",
       "        text-align: right;\n",
       "    }\n",
       "</style>\n",
       "<table border=\"1\" class=\"dataframe\">\n",
       "  <thead>\n",
       "    <tr style=\"text-align: right;\">\n",
       "      <th></th>\n",
       "      <th>diagonal</th>\n",
       "      <th>height_left</th>\n",
       "      <th>height_right</th>\n",
       "      <th>margin_low</th>\n",
       "      <th>margin_up</th>\n",
       "      <th>length</th>\n",
       "    </tr>\n",
       "  </thead>\n",
       "  <tbody>\n",
       "    <tr>\n",
       "      <th>count</th>\n",
       "      <td>170.000000</td>\n",
       "      <td>170.000000</td>\n",
       "      <td>170.000000</td>\n",
       "      <td>170.000000</td>\n",
       "      <td>170.000000</td>\n",
       "      <td>170.000000</td>\n",
       "    </tr>\n",
       "    <tr>\n",
       "      <th>mean</th>\n",
       "      <td>171.940588</td>\n",
       "      <td>104.066353</td>\n",
       "      <td>103.928118</td>\n",
       "      <td>4.612118</td>\n",
       "      <td>3.170412</td>\n",
       "      <td>112.570412</td>\n",
       "    </tr>\n",
       "    <tr>\n",
       "      <th>std</th>\n",
       "      <td>0.305768</td>\n",
       "      <td>0.298185</td>\n",
       "      <td>0.330980</td>\n",
       "      <td>0.702103</td>\n",
       "      <td>0.236361</td>\n",
       "      <td>0.924448</td>\n",
       "    </tr>\n",
       "    <tr>\n",
       "      <th>min</th>\n",
       "      <td>171.040000</td>\n",
       "      <td>103.230000</td>\n",
       "      <td>103.140000</td>\n",
       "      <td>3.540000</td>\n",
       "      <td>2.270000</td>\n",
       "      <td>109.970000</td>\n",
       "    </tr>\n",
       "    <tr>\n",
       "      <th>25%</th>\n",
       "      <td>171.730000</td>\n",
       "      <td>103.842500</td>\n",
       "      <td>103.690000</td>\n",
       "      <td>4.050000</td>\n",
       "      <td>3.012500</td>\n",
       "      <td>111.855000</td>\n",
       "    </tr>\n",
       "    <tr>\n",
       "      <th>50%</th>\n",
       "      <td>171.945000</td>\n",
       "      <td>104.055000</td>\n",
       "      <td>103.950000</td>\n",
       "      <td>4.450000</td>\n",
       "      <td>3.170000</td>\n",
       "      <td>112.845000</td>\n",
       "    </tr>\n",
       "    <tr>\n",
       "      <th>75%</th>\n",
       "      <td>172.137500</td>\n",
       "      <td>104.287500</td>\n",
       "      <td>104.170000</td>\n",
       "      <td>5.127500</td>\n",
       "      <td>3.330000</td>\n",
       "      <td>113.287500</td>\n",
       "    </tr>\n",
       "    <tr>\n",
       "      <th>max</th>\n",
       "      <td>173.010000</td>\n",
       "      <td>104.860000</td>\n",
       "      <td>104.950000</td>\n",
       "      <td>6.280000</td>\n",
       "      <td>3.680000</td>\n",
       "      <td>113.980000</td>\n",
       "    </tr>\n",
       "  </tbody>\n",
       "</table>\n",
       "</div>"
      ],
      "text/plain": [
       "         diagonal  height_left  height_right  margin_low   margin_up  \\\n",
       "count  170.000000   170.000000    170.000000  170.000000  170.000000   \n",
       "mean   171.940588   104.066353    103.928118    4.612118    3.170412   \n",
       "std      0.305768     0.298185      0.330980    0.702103    0.236361   \n",
       "min    171.040000   103.230000    103.140000    3.540000    2.270000   \n",
       "25%    171.730000   103.842500    103.690000    4.050000    3.012500   \n",
       "50%    171.945000   104.055000    103.950000    4.450000    3.170000   \n",
       "75%    172.137500   104.287500    104.170000    5.127500    3.330000   \n",
       "max    173.010000   104.860000    104.950000    6.280000    3.680000   \n",
       "\n",
       "           length  \n",
       "count  170.000000  \n",
       "mean   112.570412  \n",
       "std      0.924448  \n",
       "min    109.970000  \n",
       "25%    111.855000  \n",
       "50%    112.845000  \n",
       "75%    113.287500  \n",
       "max    113.980000  "
      ]
     },
     "execution_count": 4,
     "metadata": {},
     "output_type": "execute_result"
    }
   ],
   "source": [
    "data.describe()"
   ]
  },
  {
   "cell_type": "code",
   "execution_count": 37,
   "metadata": {},
   "outputs": [
    {
     "data": {
      "text/html": [
       "<div>\n",
       "<style scoped>\n",
       "    .dataframe tbody tr th:only-of-type {\n",
       "        vertical-align: middle;\n",
       "    }\n",
       "\n",
       "    .dataframe tbody tr th {\n",
       "        vertical-align: top;\n",
       "    }\n",
       "\n",
       "    .dataframe thead th {\n",
       "        text-align: right;\n",
       "    }\n",
       "</style>\n",
       "<table border=\"1\" class=\"dataframe\">\n",
       "  <thead>\n",
       "    <tr style=\"text-align: right;\">\n",
       "      <th></th>\n",
       "      <th>diagonal</th>\n",
       "      <th>height_left</th>\n",
       "      <th>height_right</th>\n",
       "      <th>margin_low</th>\n",
       "      <th>margin_up</th>\n",
       "      <th>length</th>\n",
       "    </tr>\n",
       "  </thead>\n",
       "  <tbody>\n",
       "    <tr>\n",
       "      <th>count</th>\n",
       "      <td>70.000000</td>\n",
       "      <td>70.000000</td>\n",
       "      <td>70.000000</td>\n",
       "      <td>70.000000</td>\n",
       "      <td>70.000000</td>\n",
       "      <td>70.000000</td>\n",
       "    </tr>\n",
       "    <tr>\n",
       "      <th>mean</th>\n",
       "      <td>171.889857</td>\n",
       "      <td>104.230429</td>\n",
       "      <td>104.145571</td>\n",
       "      <td>5.281571</td>\n",
       "      <td>3.334571</td>\n",
       "      <td>111.660714</td>\n",
       "    </tr>\n",
       "    <tr>\n",
       "      <th>std</th>\n",
       "      <td>0.297426</td>\n",
       "      <td>0.213130</td>\n",
       "      <td>0.253152</td>\n",
       "      <td>0.540846</td>\n",
       "      <td>0.185102</td>\n",
       "      <td>0.676931</td>\n",
       "    </tr>\n",
       "    <tr>\n",
       "      <th>min</th>\n",
       "      <td>171.380000</td>\n",
       "      <td>103.780000</td>\n",
       "      <td>103.440000</td>\n",
       "      <td>3.820000</td>\n",
       "      <td>2.980000</td>\n",
       "      <td>109.970000</td>\n",
       "    </tr>\n",
       "    <tr>\n",
       "      <th>25%</th>\n",
       "      <td>171.682500</td>\n",
       "      <td>104.082500</td>\n",
       "      <td>103.982500</td>\n",
       "      <td>4.952500</td>\n",
       "      <td>3.185000</td>\n",
       "      <td>111.270000</td>\n",
       "    </tr>\n",
       "    <tr>\n",
       "      <th>50%</th>\n",
       "      <td>171.875000</td>\n",
       "      <td>104.215000</td>\n",
       "      <td>104.170000</td>\n",
       "      <td>5.265000</td>\n",
       "      <td>3.335000</td>\n",
       "      <td>111.765000</td>\n",
       "    </tr>\n",
       "    <tr>\n",
       "      <th>75%</th>\n",
       "      <td>172.047500</td>\n",
       "      <td>104.377500</td>\n",
       "      <td>104.280000</td>\n",
       "      <td>5.702500</td>\n",
       "      <td>3.450000</td>\n",
       "      <td>111.985000</td>\n",
       "    </tr>\n",
       "    <tr>\n",
       "      <th>max</th>\n",
       "      <td>173.010000</td>\n",
       "      <td>104.720000</td>\n",
       "      <td>104.860000</td>\n",
       "      <td>6.280000</td>\n",
       "      <td>3.680000</td>\n",
       "      <td>113.640000</td>\n",
       "    </tr>\n",
       "  </tbody>\n",
       "</table>\n",
       "</div>"
      ],
      "text/plain": [
       "         diagonal  height_left  height_right  margin_low  margin_up  \\\n",
       "count   70.000000    70.000000     70.000000   70.000000  70.000000   \n",
       "mean   171.889857   104.230429    104.145571    5.281571   3.334571   \n",
       "std      0.297426     0.213130      0.253152    0.540846   0.185102   \n",
       "min    171.380000   103.780000    103.440000    3.820000   2.980000   \n",
       "25%    171.682500   104.082500    103.982500    4.952500   3.185000   \n",
       "50%    171.875000   104.215000    104.170000    5.265000   3.335000   \n",
       "75%    172.047500   104.377500    104.280000    5.702500   3.450000   \n",
       "max    173.010000   104.720000    104.860000    6.280000   3.680000   \n",
       "\n",
       "           length  \n",
       "count   70.000000  \n",
       "mean   111.660714  \n",
       "std      0.676931  \n",
       "min    109.970000  \n",
       "25%    111.270000  \n",
       "50%    111.765000  \n",
       "75%    111.985000  \n",
       "max    113.640000  "
      ]
     },
     "execution_count": 37,
     "metadata": {},
     "output_type": "execute_result"
    }
   ],
   "source": [
    "data[data.is_genuine == False].describe()"
   ]
  },
  {
   "cell_type": "code",
   "execution_count": 38,
   "metadata": {},
   "outputs": [
    {
     "data": {
      "text/html": [
       "<div>\n",
       "<style scoped>\n",
       "    .dataframe tbody tr th:only-of-type {\n",
       "        vertical-align: middle;\n",
       "    }\n",
       "\n",
       "    .dataframe tbody tr th {\n",
       "        vertical-align: top;\n",
       "    }\n",
       "\n",
       "    .dataframe thead th {\n",
       "        text-align: right;\n",
       "    }\n",
       "</style>\n",
       "<table border=\"1\" class=\"dataframe\">\n",
       "  <thead>\n",
       "    <tr style=\"text-align: right;\">\n",
       "      <th></th>\n",
       "      <th>diagonal</th>\n",
       "      <th>height_left</th>\n",
       "      <th>height_right</th>\n",
       "      <th>margin_low</th>\n",
       "      <th>margin_up</th>\n",
       "      <th>length</th>\n",
       "    </tr>\n",
       "  </thead>\n",
       "  <tbody>\n",
       "    <tr>\n",
       "      <th>count</th>\n",
       "      <td>100.000000</td>\n",
       "      <td>100.000000</td>\n",
       "      <td>100.000000</td>\n",
       "      <td>100.000000</td>\n",
       "      <td>100.000000</td>\n",
       "      <td>100.000000</td>\n",
       "    </tr>\n",
       "    <tr>\n",
       "      <th>mean</th>\n",
       "      <td>171.976100</td>\n",
       "      <td>103.951500</td>\n",
       "      <td>103.775900</td>\n",
       "      <td>4.143500</td>\n",
       "      <td>3.055500</td>\n",
       "      <td>113.207200</td>\n",
       "    </tr>\n",
       "    <tr>\n",
       "      <th>std</th>\n",
       "      <td>0.307981</td>\n",
       "      <td>0.296251</td>\n",
       "      <td>0.292406</td>\n",
       "      <td>0.314509</td>\n",
       "      <td>0.197726</td>\n",
       "      <td>0.380476</td>\n",
       "    </tr>\n",
       "    <tr>\n",
       "      <th>min</th>\n",
       "      <td>171.040000</td>\n",
       "      <td>103.230000</td>\n",
       "      <td>103.140000</td>\n",
       "      <td>3.540000</td>\n",
       "      <td>2.270000</td>\n",
       "      <td>111.760000</td>\n",
       "    </tr>\n",
       "    <tr>\n",
       "      <th>25%</th>\n",
       "      <td>171.790000</td>\n",
       "      <td>103.740000</td>\n",
       "      <td>103.557500</td>\n",
       "      <td>3.900000</td>\n",
       "      <td>2.937500</td>\n",
       "      <td>112.995000</td>\n",
       "    </tr>\n",
       "    <tr>\n",
       "      <th>50%</th>\n",
       "      <td>172.005000</td>\n",
       "      <td>103.915000</td>\n",
       "      <td>103.760000</td>\n",
       "      <td>4.080000</td>\n",
       "      <td>3.070000</td>\n",
       "      <td>113.210000</td>\n",
       "    </tr>\n",
       "    <tr>\n",
       "      <th>75%</th>\n",
       "      <td>172.162500</td>\n",
       "      <td>104.145000</td>\n",
       "      <td>103.972500</td>\n",
       "      <td>4.382500</td>\n",
       "      <td>3.192500</td>\n",
       "      <td>113.505000</td>\n",
       "    </tr>\n",
       "    <tr>\n",
       "      <th>max</th>\n",
       "      <td>172.750000</td>\n",
       "      <td>104.860000</td>\n",
       "      <td>104.950000</td>\n",
       "      <td>5.040000</td>\n",
       "      <td>3.530000</td>\n",
       "      <td>113.980000</td>\n",
       "    </tr>\n",
       "  </tbody>\n",
       "</table>\n",
       "</div>"
      ],
      "text/plain": [
       "         diagonal  height_left  height_right  margin_low   margin_up  \\\n",
       "count  100.000000   100.000000    100.000000  100.000000  100.000000   \n",
       "mean   171.976100   103.951500    103.775900    4.143500    3.055500   \n",
       "std      0.307981     0.296251      0.292406    0.314509    0.197726   \n",
       "min    171.040000   103.230000    103.140000    3.540000    2.270000   \n",
       "25%    171.790000   103.740000    103.557500    3.900000    2.937500   \n",
       "50%    172.005000   103.915000    103.760000    4.080000    3.070000   \n",
       "75%    172.162500   104.145000    103.972500    4.382500    3.192500   \n",
       "max    172.750000   104.860000    104.950000    5.040000    3.530000   \n",
       "\n",
       "           length  \n",
       "count  100.000000  \n",
       "mean   113.207200  \n",
       "std      0.380476  \n",
       "min    111.760000  \n",
       "25%    112.995000  \n",
       "50%    113.210000  \n",
       "75%    113.505000  \n",
       "max    113.980000  "
      ]
     },
     "execution_count": 38,
     "metadata": {},
     "output_type": "execute_result"
    }
   ],
   "source": [
    "data[data.is_genuine == True].describe()"
   ]
  },
  {
   "cell_type": "markdown",
   "metadata": {},
   "source": [
    "<p> Les minimums et maximums des valeurs True et False correspondent bien, nous ne pouvons rien déduire directement <br/>\n",
    "(Si le maximum d'un True est inférieur au maximum d'un False alors nous cela aurait pu nous aider) </p>"
   ]
  },
  {
   "cell_type": "markdown",
   "metadata": {},
   "source": [
    "<p> Il ne semble pas y avoir de valeur aberrantes de première abord ; Voyons avec des Histogrammes. </p>"
   ]
  },
  {
   "cell_type": "code",
   "execution_count": 51,
   "metadata": {
    "scrolled": true
   },
   "outputs": [
    {
     "data": {
      "image/png": "[encoded data removed]",
      "text/plain": [
       "<Figure size 432x288 with 1 Axes>"
      ]
     },
     "metadata": {
      "needs_background": "light"
     },
     "output_type": "display_data"
    },
    {
     "data": {
      "image/png": "[encoded data removed]",
      "text/plain": [
       "<Figure size 432x288 with 1 Axes>"
      ]
     },
     "metadata": {
      "needs_background": "light"
     },
     "output_type": "display_data"
    },
    {
     "data": {
      "image/png": "[encoded data removed]",
      "text/plain": [
       "<Figure size 432x288 with 1 Axes>"
      ]
     },
     "metadata": {
      "needs_background": "light"
     },
     "output_type": "display_data"
    },
    {
     "data": {
      "image/png": "[encoded data removed]",
      "text/plain": [
       "<Figure size 432x288 with 1 Axes>"
      ]
     },
     "metadata": {
      "needs_background": "light"
     },
     "output_type": "display_data"
    },
    {
     "data": {
      "image/png": "[encoded data removed]",
      "text/plain": [
       "<Figure size 432x288 with 1 Axes>"
      ]
     },
     "metadata": {
      "needs_background": "light"
     },
     "output_type": "display_data"
    },
    {
     "data": {
      "image/png": "[encoded data removed]",
      "text/plain": [
       "<Figure size 432x288 with 1 Axes>"
      ]
     },
     "metadata": {
      "needs_background": "light"
     },
     "output_type": "display_data"
    }
   ],
   "source": [
    "i = 1\n",
    "while i <= 6:\n",
    "    plt.hist([data.iloc[:,i][data.is_genuine == False], data.iloc[:,i][data.is_genuine == True]], \n",
    "             bins=(40), color = [\"r\", \"b\"],\n",
    "             label=[\"Faux billets\", \"Vrais Billets\"],\n",
    "            histtype = 'barstacked')\n",
    "    plt.title(\"Histogramme de {}\".format(data.columns[i]))\n",
    "    plt.xlabel(data.columns[i])\n",
    "    plt.ylabel(\"Nombre de valeurs\")\n",
    "    plt.legend(loc=\"best\")\n",
    "    plt.show()\n",
    "    i += 1"
   ]
  },
  {
   "cell_type": "markdown",
   "metadata": {},
   "source": [
    "<p> Les colonnes Margin_low et Length se démarquent par leurs grandes différences entre les vrais et faux billets. </p>\n",
    "<p> Si l'on décidait de se baser uniquement sur ces histogrammes pour détecter si un billet est vrai ou non, alors le programme ne serait pas satisfaisant ; <br/>\n",
    "    En effet on peut voir que certains faux billets ont la même taille (en margin_low ou length) que les vrais billets, et inversement. Nous passerions donc à côté de faux billets. </p>"
   ]
  },
  {
   "cell_type": "code",
   "execution_count": null,
   "metadata": {},
   "outputs": [],
   "source": []
  },
  {
   "cell_type": "markdown",
   "metadata": {},
   "source": [
    "# Partie 2 : ACP"
   ]
  },
  {
   "cell_type": "code",
   "execution_count": 76,
   "metadata": {},
   "outputs": [],
   "source": [
    "from functions2 import *\n",
    "from sklearn import preprocessing, decomposition"
   ]
  },
  {
   "cell_type": "markdown",
   "metadata": {},
   "source": [
    "## Composantes principales"
   ]
  },
  {
   "cell_type": "code",
   "execution_count": 95,
   "metadata": {},
   "outputs": [],
   "source": [
    "n_comp = 5\n",
    "\n",
    "data_pca = data[[\"diagonal\", \"height_left\", \"height_right\", \"margin_low\", \"margin_up\", \"length\"]]\n",
    "\n",
    "data_pca = data_pca.fillna(data_pca.mean())\n",
    "\n",
    "X = data_pca.values\n",
    "\n",
    "fakeornot = [data.loc[fake, \"is_genuine\"] for fake in data.index]\n",
    "\n",
    "names = data_pca.index\n",
    "\n",
    "features = data_pca.columns\n",
    "\n",
    "#Centrage et réduction : \n",
    "std_scale = preprocessing.StandardScaler().fit(X)\n",
    "X_scaled = std_scale.transform(X)\n",
    "\n",
    "#Calcul des composantes principales : \n",
    "pca = decomposition.PCA(n_components = n_comp)\n",
    "pca = pca.fit(X_scaled)"
   ]
  },
  {
   "cell_type": "markdown",
   "metadata": {},
   "source": [
    "## Eboulis des valeurs propres"
   ]
  },
  {
   "cell_type": "code",
   "execution_count": 96,
   "metadata": {},
   "outputs": [
    {
     "data": {
      "image/png": "[encoded data removed]",
      "text/plain": [
       "<Figure size 432x288 with 1 Axes>"
      ]
     },
     "metadata": {
      "needs_background": "light"
     },
     "output_type": "display_data"
    }
   ],
   "source": [
    "display_scree_plot(pca)"
   ]
  },
  {
   "cell_type": "markdown",
   "metadata": {},
   "source": [
    "<p> L'éboulie des valeurs propres nous indique que 5 composantes principales sont nécessaires pour expliquer presque 100% des données. </p>\n",
    "\n",
    "<p> Nous apprenons aussi que la composante principale 1 (PC1) explique 47,4 % des informations.</p>\n",
    "\n",
    "<p>Notons aussi qu'un plan factoriel (F) correspond à la projection d'une composante principale (PC) sur un axe. <br/>\n",
    "F1 correspond donc à la projection de PC1, F2 à la projection de PC2, ect...</p>"
   ]
  },
  {
   "cell_type": "markdown",
   "metadata": {},
   "source": [
    "## Cercle des corrélations"
   ]
  },
  {
   "cell_type": "code",
   "execution_count": 97,
   "metadata": {},
   "outputs": [
    {
     "data": {
      "image/png": "[encoded data removed]",
      "text/plain": [
       "<Figure size 504x432 with 1 Axes>"
      ]
     },
     "metadata": {
      "needs_background": "light"
     },
     "output_type": "display_data"
    }
   ],
   "source": [
    "pcs = pca.components_\n",
    "display_circles(\"Cercle_des_correlations\", pcs, n_comp, pca, [(0,1)], labels = np.array(features))"
   ]
  },
  {
   "cell_type": "markdown",
   "metadata": {},
   "source": [
    "<p> Le cercle des corrélations indique que height_left, height_right, margin_up, margin_low, et length sont corrélées pour F1. </p>\n",
    "\n",
    "<p> Afin de vérifier cela par les chiffres, regardons le poids de chaque variable sur l'inertie de l'axe :</p>"
   ]
  },
  {
   "cell_type": "markdown",
   "metadata": {},
   "source": [
    "## Poids des variables "
   ]
  },
  {
   "cell_type": "code",
   "execution_count": 98,
   "metadata": {},
   "outputs": [
    {
     "data": {
      "text/html": [
       "<div>\n",
       "<style scoped>\n",
       "    .dataframe tbody tr th:only-of-type {\n",
       "        vertical-align: middle;\n",
       "    }\n",
       "\n",
       "    .dataframe tbody tr th {\n",
       "        vertical-align: top;\n",
       "    }\n",
       "\n",
       "    .dataframe thead th {\n",
       "        text-align: right;\n",
       "    }\n",
       "</style>\n",
       "<table border=\"1\" class=\"dataframe\">\n",
       "  <thead>\n",
       "    <tr style=\"text-align: right;\">\n",
       "      <th></th>\n",
       "      <th>diagonal</th>\n",
       "      <th>height_left</th>\n",
       "      <th>height_right</th>\n",
       "      <th>margin_low</th>\n",
       "      <th>margin_up</th>\n",
       "      <th>length</th>\n",
       "    </tr>\n",
       "  </thead>\n",
       "  <tbody>\n",
       "    <tr>\n",
       "      <th>F1</th>\n",
       "      <td>0.073275</td>\n",
       "      <td>0.475502</td>\n",
       "      <td>0.491821</td>\n",
       "      <td>0.431027</td>\n",
       "      <td>0.35254</td>\n",
       "      <td>-0.465373</td>\n",
       "    </tr>\n",
       "    <tr>\n",
       "      <th>F2</th>\n",
       "      <td>0.779639</td>\n",
       "      <td>0.339250</td>\n",
       "      <td>0.235543</td>\n",
       "      <td>-0.320537</td>\n",
       "      <td>-0.14112</td>\n",
       "      <td>0.314536</td>\n",
       "    </tr>\n",
       "  </tbody>\n",
       "</table>\n",
       "</div>"
      ],
      "text/plain": [
       "    diagonal  height_left  height_right  margin_low  margin_up    length\n",
       "F1  0.073275     0.475502      0.491821    0.431027    0.35254 -0.465373\n",
       "F2  0.779639     0.339250      0.235543   -0.320537   -0.14112  0.314536"
      ]
     },
     "execution_count": 98,
     "metadata": {},
     "output_type": "execute_result"
    }
   ],
   "source": [
    "poids_des_variables = pd.DataFrame(pcs, index=[[\"F1\", \"F2\", \"F3\", \"F4\", \"F5\"]], \n",
    "                                   columns = features)\n",
    "poids_des_variables.loc[[\"F1\", \"F2\"]]"
   ]
  },
  {
   "cell_type": "markdown",
   "metadata": {},
   "source": [
    "<p> On retrouve bien ici nos colonnes vues précédemment pour F1. </p>"
   ]
  },
  {
   "cell_type": "markdown",
   "metadata": {},
   "source": [
    "## Projection des individus"
   ]
  },
  {
   "cell_type": "code",
   "execution_count": 103,
   "metadata": {},
   "outputs": [
    {
     "data": {
      "image/png": "[encoded data removed]",
      "text/plain": [
       "<Figure size 504x432 with 1 Axes>"
      ]
     },
     "metadata": {
      "needs_background": "light"
     },
     "output_type": "display_data"
    }
   ],
   "source": [
    "X_projected = pca.transform(X_scaled)\n",
    "display_factorial_planes(X_projected, n_comp, pca, [(0,1)], illustrative_var = fakeornot)"
   ]
  },
  {
   "cell_type": "markdown",
   "metadata": {},
   "source": [
    "<p> La projection des individus sur F1 et F2 nous indique deux clusters, les vrais billets, ainsi que les faux. Il semble donc que nous allons pouvoir nous servir de F1 et F2 pour notre programme. (Attention toutefois certains points du Cluster 'Faux' se démarque peu ou pas du cluster 'Vrai', et inversement - Il faudra donc retravailler ce point pour une plus grande précision du programme).</p>   \n",
    "\n",
    "<p> Pour la grande majorité des points, un billet faux correspond donc à une grande valeur pour F1, et une faible valeur pour un billet vrai </p>"
   ]
  },
  {
   "cell_type": "markdown",
   "metadata": {},
   "source": [
    "# Mission 2 : Appliquer un algorithme de Classification"
   ]
  },
  {
   "cell_type": "code",
   "execution_count": 104,
   "metadata": {},
   "outputs": [],
   "source": [
    "from sklearn.cluster import KMeans"
   ]
  },
  {
   "cell_type": "code",
   "execution_count": 119,
   "metadata": {},
   "outputs": [],
   "source": [
    "kmeans = KMeans(n_clusters=2, random_state=0).fit(data_pca)\n",
    "\n",
    "kmeans = pd.DataFrame(kmeans.labels_, index = data.index, columns=[\"Clusters\"])"
   ]
  },
  {
   "cell_type": "code",
   "execution_count": 128,
   "metadata": {},
   "outputs": [
    {
     "data": {
      "text/html": [
       "<div>\n",
       "<style scoped>\n",
       "    .dataframe tbody tr th:only-of-type {\n",
       "        vertical-align: middle;\n",
       "    }\n",
       "\n",
       "    .dataframe tbody tr th {\n",
       "        vertical-align: top;\n",
       "    }\n",
       "\n",
       "    .dataframe thead th {\n",
       "        text-align: right;\n",
       "    }\n",
       "</style>\n",
       "<table border=\"1\" class=\"dataframe\">\n",
       "  <thead>\n",
       "    <tr style=\"text-align: right;\">\n",
       "      <th></th>\n",
       "      <th>is_genuine</th>\n",
       "      <th>diagonal</th>\n",
       "      <th>height_left</th>\n",
       "      <th>height_right</th>\n",
       "      <th>margin_low</th>\n",
       "      <th>margin_up</th>\n",
       "      <th>length</th>\n",
       "      <th>Clusters</th>\n",
       "    </tr>\n",
       "  </thead>\n",
       "  <tbody>\n",
       "    <tr>\n",
       "      <th>0</th>\n",
       "      <td>True</td>\n",
       "      <td>171.81</td>\n",
       "      <td>104.86</td>\n",
       "      <td>104.95</td>\n",
       "      <td>4.52</td>\n",
       "      <td>2.89</td>\n",
       "      <td>112.83</td>\n",
       "      <td>0</td>\n",
       "    </tr>\n",
       "    <tr>\n",
       "      <th>1</th>\n",
       "      <td>True</td>\n",
       "      <td>171.67</td>\n",
       "      <td>103.74</td>\n",
       "      <td>103.70</td>\n",
       "      <td>4.01</td>\n",
       "      <td>2.87</td>\n",
       "      <td>113.29</td>\n",
       "      <td>0</td>\n",
       "    </tr>\n",
       "    <tr>\n",
       "      <th>2</th>\n",
       "      <td>True</td>\n",
       "      <td>171.83</td>\n",
       "      <td>103.76</td>\n",
       "      <td>103.76</td>\n",
       "      <td>4.40</td>\n",
       "      <td>2.88</td>\n",
       "      <td>113.84</td>\n",
       "      <td>0</td>\n",
       "    </tr>\n",
       "    <tr>\n",
       "      <th>3</th>\n",
       "      <td>True</td>\n",
       "      <td>171.80</td>\n",
       "      <td>103.78</td>\n",
       "      <td>103.65</td>\n",
       "      <td>3.73</td>\n",
       "      <td>3.12</td>\n",
       "      <td>113.63</td>\n",
       "      <td>0</td>\n",
       "    </tr>\n",
       "    <tr>\n",
       "      <th>4</th>\n",
       "      <td>True</td>\n",
       "      <td>172.05</td>\n",
       "      <td>103.70</td>\n",
       "      <td>103.75</td>\n",
       "      <td>5.04</td>\n",
       "      <td>2.27</td>\n",
       "      <td>113.55</td>\n",
       "      <td>0</td>\n",
       "    </tr>\n",
       "  </tbody>\n",
       "</table>\n",
       "</div>"
      ],
      "text/plain": [
       "   is_genuine  diagonal  height_left  height_right  margin_low  margin_up  \\\n",
       "0        True    171.81       104.86        104.95        4.52       2.89   \n",
       "1        True    171.67       103.74        103.70        4.01       2.87   \n",
       "2        True    171.83       103.76        103.76        4.40       2.88   \n",
       "3        True    171.80       103.78        103.65        3.73       3.12   \n",
       "4        True    172.05       103.70        103.75        5.04       2.27   \n",
       "\n",
       "   length  Clusters  \n",
       "0  112.83         0  \n",
       "1  113.29         0  \n",
       "2  113.84         0  \n",
       "3  113.63         0  \n",
       "4  113.55         0  "
      ]
     },
     "execution_count": 128,
     "metadata": {},
     "output_type": "execute_result"
    }
   ],
   "source": [
    "data = pd.merge(data, kmeans, left_index=True, right_index=True)\n",
    "data.head()"
   ]
  },
  {
   "cell_type": "code",
   "execution_count": 130,
   "metadata": {},
   "outputs": [
    {
     "data": {
      "image/png": "[encoded data removed]",
      "text/plain": [
       "<Figure size 504x432 with 1 Axes>"
      ]
     },
     "metadata": {
      "needs_background": "light"
     },
     "output_type": "display_data"
    }
   ],
   "source": [
    "clust = [data_clusters.loc[i, \"Clusters\"] for i in data_clusters.index]\n",
    "display_factorial_planes(X_projected, n_comp, pca, [(0,1)], illustrative_var = clust)"
   ]
  },
  {
   "cell_type": "code",
   "execution_count": null,
   "metadata": {},
   "outputs": [],
   "source": []
  }
 ],
 "metadata": {
  "kernelspec": {
   "display_name": "Python 3",
   "language": "python",
   "name": "python3"
  },
  "language_info": {
   "codemirror_mode": {
    "name": "ipython",
    "version": 3
   },
   "file_extension": ".py",
   "mimetype": "text/x-python",
   "name": "python",
   "nbconvert_exporter": "python",
   "pygments_lexer": "ipython3",
   "version": "3.7.1"
  },
  "toc": {
   "base_numbering": 1,
   "nav_menu": {},
   "number_sections": true,
   "sideBar": true,
   "skip_h1_title": false,
   "title_cell": "Table of Contents",
   "title_sidebar": "Contents",
   "toc_cell": false,
   "toc_position": {},
   "toc_section_display": true,
   "toc_window_display": false
  }
 },
 "nbformat": 4,
 "nbformat_minor": 2
}
